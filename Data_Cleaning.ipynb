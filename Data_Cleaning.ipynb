{
 "cells": [
  {
   "cell_type": "markdown",
   "metadata": {},
   "source": [
    "# IMPORTING LIBRARIES TO READ DATASET1"
   ]
  },
  {
   "cell_type": "code",
   "execution_count": 1,
   "metadata": {},
   "outputs": [],
   "source": [
    "import pandas as pd\n",
    "import numpy as np "
   ]
  },
  {
   "cell_type": "code",
   "execution_count": 2,
   "metadata": {},
   "outputs": [
    {
     "name": "stdout",
     "output_type": "stream",
     "text": [
      "(22805, 8)\n"
     ]
    },
    {
     "data": {
      "text/html": [
       "<div>\n",
       "<style scoped>\n",
       "    .dataframe tbody tr th:only-of-type {\n",
       "        vertical-align: middle;\n",
       "    }\n",
       "\n",
       "    .dataframe tbody tr th {\n",
       "        vertical-align: top;\n",
       "    }\n",
       "\n",
       "    .dataframe thead th {\n",
       "        text-align: right;\n",
       "    }\n",
       "</style>\n",
       "<table border=\"1\" class=\"dataframe\">\n",
       "  <thead>\n",
       "    <tr style=\"text-align: right;\">\n",
       "      <th></th>\n",
       "      <th>Type</th>\n",
       "      <th>Date</th>\n",
       "      <th>Time</th>\n",
       "      <th>open</th>\n",
       "      <th>high</th>\n",
       "      <th>low</th>\n",
       "      <th>close</th>\n",
       "      <th>Unnamed: 7</th>\n",
       "    </tr>\n",
       "  </thead>\n",
       "  <tbody>\n",
       "    <tr>\n",
       "      <th>0</th>\n",
       "      <td>NIFTY</td>\n",
       "      <td>20210101</td>\n",
       "      <td>09:16</td>\n",
       "      <td>13997.90</td>\n",
       "      <td>14020.85</td>\n",
       "      <td>13991.35</td>\n",
       "      <td>14013.15</td>\n",
       "      <td>NaN</td>\n",
       "    </tr>\n",
       "    <tr>\n",
       "      <th>1</th>\n",
       "      <td>NIFTY</td>\n",
       "      <td>20210101</td>\n",
       "      <td>09:17</td>\n",
       "      <td>14014.85</td>\n",
       "      <td>14018.55</td>\n",
       "      <td>14008.15</td>\n",
       "      <td>14009.05</td>\n",
       "      <td>NaN</td>\n",
       "    </tr>\n",
       "    <tr>\n",
       "      <th>2</th>\n",
       "      <td>NIFTY</td>\n",
       "      <td>20210101</td>\n",
       "      <td>09:18</td>\n",
       "      <td>14008.05</td>\n",
       "      <td>14013.10</td>\n",
       "      <td>14005.05</td>\n",
       "      <td>14012.70</td>\n",
       "      <td>NaN</td>\n",
       "    </tr>\n",
       "    <tr>\n",
       "      <th>3</th>\n",
       "      <td>NIFTY</td>\n",
       "      <td>20210101</td>\n",
       "      <td>09:19</td>\n",
       "      <td>14013.65</td>\n",
       "      <td>14019.10</td>\n",
       "      <td>14013.65</td>\n",
       "      <td>14016.20</td>\n",
       "      <td>NaN</td>\n",
       "    </tr>\n",
       "    <tr>\n",
       "      <th>4</th>\n",
       "      <td>NIFTY</td>\n",
       "      <td>20210101</td>\n",
       "      <td>09:20</td>\n",
       "      <td>14015.45</td>\n",
       "      <td>14017.80</td>\n",
       "      <td>14011.95</td>\n",
       "      <td>14015.45</td>\n",
       "      <td>NaN</td>\n",
       "    </tr>\n",
       "  </tbody>\n",
       "</table>\n",
       "</div>"
      ],
      "text/plain": [
       "    Type      Date   Time      open      high       low     close  Unnamed: 7\n",
       "0  NIFTY  20210101  09:16  13997.90  14020.85  13991.35  14013.15         NaN\n",
       "1  NIFTY  20210101  09:17  14014.85  14018.55  14008.15  14009.05         NaN\n",
       "2  NIFTY  20210101  09:18  14008.05  14013.10  14005.05  14012.70         NaN\n",
       "3  NIFTY  20210101  09:19  14013.65  14019.10  14013.65  14016.20         NaN\n",
       "4  NIFTY  20210101  09:20  14015.45  14017.80  14011.95  14015.45         NaN"
      ]
     },
     "execution_count": 2,
     "metadata": {},
     "output_type": "execute_result"
    }
   ],
   "source": [
    "#reading the dataset\n",
    "data = pd.read_csv('DataFrame.csv')\n",
    "print(data.shape) # printing the shape of the data (rows,columns)\n",
    "data.head() # print the first five rows of data"
   ]
  },
  {
   "cell_type": "code",
   "execution_count": 3,
   "metadata": {},
   "outputs": [],
   "source": [
    "#removing unnamed column\n",
    "data.drop('Unnamed: 7' , axis = 1 , inplace = True)"
   ]
  },
  {
   "cell_type": "code",
   "execution_count": 4,
   "metadata": {},
   "outputs": [],
   "source": [
    "#parsing the dates into perfect format\n",
    "import datetime\n",
    "data['Date'] = pd.to_datetime(data['Date'], format='%Y%m%d')"
   ]
  },
  {
   "cell_type": "code",
   "execution_count": 5,
   "metadata": {},
   "outputs": [
    {
     "data": {
      "text/html": [
       "<div>\n",
       "<style scoped>\n",
       "    .dataframe tbody tr th:only-of-type {\n",
       "        vertical-align: middle;\n",
       "    }\n",
       "\n",
       "    .dataframe tbody tr th {\n",
       "        vertical-align: top;\n",
       "    }\n",
       "\n",
       "    .dataframe thead th {\n",
       "        text-align: right;\n",
       "    }\n",
       "</style>\n",
       "<table border=\"1\" class=\"dataframe\">\n",
       "  <thead>\n",
       "    <tr style=\"text-align: right;\">\n",
       "      <th></th>\n",
       "      <th>TYPE</th>\n",
       "      <th>DATE</th>\n",
       "      <th>TIME</th>\n",
       "      <th>OPEN</th>\n",
       "      <th>HIGH</th>\n",
       "      <th>LOW</th>\n",
       "      <th>CLOSE</th>\n",
       "    </tr>\n",
       "  </thead>\n",
       "  <tbody>\n",
       "    <tr>\n",
       "      <th>0</th>\n",
       "      <td>NIFTY</td>\n",
       "      <td>2021-01-01</td>\n",
       "      <td>09:16</td>\n",
       "      <td>13997.90</td>\n",
       "      <td>14020.85</td>\n",
       "      <td>13991.35</td>\n",
       "      <td>14013.15</td>\n",
       "    </tr>\n",
       "    <tr>\n",
       "      <th>1</th>\n",
       "      <td>NIFTY</td>\n",
       "      <td>2021-01-01</td>\n",
       "      <td>09:17</td>\n",
       "      <td>14014.85</td>\n",
       "      <td>14018.55</td>\n",
       "      <td>14008.15</td>\n",
       "      <td>14009.05</td>\n",
       "    </tr>\n",
       "    <tr>\n",
       "      <th>2</th>\n",
       "      <td>NIFTY</td>\n",
       "      <td>2021-01-01</td>\n",
       "      <td>09:18</td>\n",
       "      <td>14008.05</td>\n",
       "      <td>14013.10</td>\n",
       "      <td>14005.05</td>\n",
       "      <td>14012.70</td>\n",
       "    </tr>\n",
       "    <tr>\n",
       "      <th>3</th>\n",
       "      <td>NIFTY</td>\n",
       "      <td>2021-01-01</td>\n",
       "      <td>09:19</td>\n",
       "      <td>14013.65</td>\n",
       "      <td>14019.10</td>\n",
       "      <td>14013.65</td>\n",
       "      <td>14016.20</td>\n",
       "    </tr>\n",
       "    <tr>\n",
       "      <th>4</th>\n",
       "      <td>NIFTY</td>\n",
       "      <td>2021-01-01</td>\n",
       "      <td>09:20</td>\n",
       "      <td>14015.45</td>\n",
       "      <td>14017.80</td>\n",
       "      <td>14011.95</td>\n",
       "      <td>14015.45</td>\n",
       "    </tr>\n",
       "  </tbody>\n",
       "</table>\n",
       "</div>"
      ],
      "text/plain": [
       "    TYPE       DATE   TIME      OPEN      HIGH       LOW     CLOSE\n",
       "0  NIFTY 2021-01-01  09:16  13997.90  14020.85  13991.35  14013.15\n",
       "1  NIFTY 2021-01-01  09:17  14014.85  14018.55  14008.15  14009.05\n",
       "2  NIFTY 2021-01-01  09:18  14008.05  14013.10  14005.05  14012.70\n",
       "3  NIFTY 2021-01-01  09:19  14013.65  14019.10  14013.65  14016.20\n",
       "4  NIFTY 2021-01-01  09:20  14015.45  14017.80  14011.95  14015.45"
      ]
     },
     "execution_count": 5,
     "metadata": {},
     "output_type": "execute_result"
    }
   ],
   "source": [
    "data.columns = data.columns.str.upper()\n",
    "data.head() ###print the updated cleaned dataset"
   ]
  },
  {
   "cell_type": "code",
   "execution_count": 6,
   "metadata": {},
   "outputs": [
    {
     "data": {
      "text/plain": [
       "<AxesSubplot:>"
      ]
     },
     "execution_count": 6,
     "metadata": {},
     "output_type": "execute_result"
    },
    {
     "data": {
      "image/png": "[encoded data removed]",
      "text/plain": [
       "<Figure size 1728x720 with 3 Axes>"
      ]
     },
     "metadata": {
      "needs_background": "light"
     },
     "output_type": "display_data"
    }
   ],
   "source": [
    "#checking for any NaN values in dataset\n",
    "import missingno as msno\n",
    "msno.bar(data)"
   ]
  },
  {
   "cell_type": "code",
   "execution_count": 7,
   "metadata": {},
   "outputs": [
    {
     "data": {
      "text/html": [
       "<div>\n",
       "<style scoped>\n",
       "    .dataframe tbody tr th:only-of-type {\n",
       "        vertical-align: middle;\n",
       "    }\n",
       "\n",
       "    .dataframe tbody tr th {\n",
       "        vertical-align: top;\n",
       "    }\n",
       "\n",
       "    .dataframe thead th {\n",
       "        text-align: right;\n",
       "    }\n",
       "</style>\n",
       "<table border=\"1\" class=\"dataframe\">\n",
       "  <thead>\n",
       "    <tr style=\"text-align: right;\">\n",
       "      <th></th>\n",
       "      <th>TYPE</th>\n",
       "      <th>DATE</th>\n",
       "      <th>TIME</th>\n",
       "      <th>OPEN</th>\n",
       "      <th>HIGH</th>\n",
       "      <th>LOW</th>\n",
       "      <th>CLOSE</th>\n",
       "    </tr>\n",
       "  </thead>\n",
       "  <tbody>\n",
       "  </tbody>\n",
       "</table>\n",
       "</div>"
      ],
      "text/plain": [
       "Empty DataFrame\n",
       "Columns: [TYPE, DATE, TIME, OPEN, HIGH, LOW, CLOSE]\n",
       "Index: []"
      ]
     },
     "execution_count": 7,
     "metadata": {},
     "output_type": "execute_result"
    }
   ],
   "source": [
    "#checking for any duplicate entry\n",
    "data[data.duplicated()]"
   ]
  },
  {
   "cell_type": "code",
   "execution_count": 8,
   "metadata": {},
   "outputs": [
    {
     "data": {
      "text/html": [
       "<div>\n",
       "<style scoped>\n",
       "    .dataframe tbody tr th:only-of-type {\n",
       "        vertical-align: middle;\n",
       "    }\n",
       "\n",
       "    .dataframe tbody tr th {\n",
       "        vertical-align: top;\n",
       "    }\n",
       "\n",
       "    .dataframe thead th {\n",
       "        text-align: right;\n",
       "    }\n",
       "</style>\n",
       "<table border=\"1\" class=\"dataframe\">\n",
       "  <thead>\n",
       "    <tr style=\"text-align: right;\">\n",
       "      <th></th>\n",
       "      <th>OPEN</th>\n",
       "      <th>HIGH</th>\n",
       "      <th>LOW</th>\n",
       "      <th>CLOSE</th>\n",
       "    </tr>\n",
       "  </thead>\n",
       "  <tbody>\n",
       "    <tr>\n",
       "      <th>count</th>\n",
       "      <td>22805.000000</td>\n",
       "      <td>22805.000000</td>\n",
       "      <td>22805.000000</td>\n",
       "      <td>22805.000000</td>\n",
       "    </tr>\n",
       "    <tr>\n",
       "      <th>mean</th>\n",
       "      <td>14703.322396</td>\n",
       "      <td>14707.486481</td>\n",
       "      <td>14699.102201</td>\n",
       "      <td>14703.260816</td>\n",
       "    </tr>\n",
       "    <tr>\n",
       "      <th>std</th>\n",
       "      <td>391.377498</td>\n",
       "      <td>391.265231</td>\n",
       "      <td>391.551643</td>\n",
       "      <td>391.366248</td>\n",
       "    </tr>\n",
       "    <tr>\n",
       "      <th>min</th>\n",
       "      <td>13604.750000</td>\n",
       "      <td>13614.400000</td>\n",
       "      <td>13596.750000</td>\n",
       "      <td>13602.800000</td>\n",
       "    </tr>\n",
       "    <tr>\n",
       "      <th>25%</th>\n",
       "      <td>14462.250000</td>\n",
       "      <td>14465.950000</td>\n",
       "      <td>14458.050000</td>\n",
       "      <td>14461.950000</td>\n",
       "    </tr>\n",
       "    <tr>\n",
       "      <th>50%</th>\n",
       "      <td>14739.500000</td>\n",
       "      <td>14743.000000</td>\n",
       "      <td>14735.850000</td>\n",
       "      <td>14739.450000</td>\n",
       "    </tr>\n",
       "    <tr>\n",
       "      <th>75%</th>\n",
       "      <td>15037.000000</td>\n",
       "      <td>15041.250000</td>\n",
       "      <td>15032.500000</td>\n",
       "      <td>15036.850000</td>\n",
       "    </tr>\n",
       "    <tr>\n",
       "      <th>max</th>\n",
       "      <td>15429.500000</td>\n",
       "      <td>15431.750000</td>\n",
       "      <td>15427.900000</td>\n",
       "      <td>15430.200000</td>\n",
       "    </tr>\n",
       "  </tbody>\n",
       "</table>\n",
       "</div>"
      ],
      "text/plain": [
       "               OPEN          HIGH           LOW         CLOSE\n",
       "count  22805.000000  22805.000000  22805.000000  22805.000000\n",
       "mean   14703.322396  14707.486481  14699.102201  14703.260816\n",
       "std      391.377498    391.265231    391.551643    391.366248\n",
       "min    13604.750000  13614.400000  13596.750000  13602.800000\n",
       "25%    14462.250000  14465.950000  14458.050000  14461.950000\n",
       "50%    14739.500000  14743.000000  14735.850000  14739.450000\n",
       "75%    15037.000000  15041.250000  15032.500000  15036.850000\n",
       "max    15429.500000  15431.750000  15427.900000  15430.200000"
      ]
     },
     "execution_count": 8,
     "metadata": {},
     "output_type": "execute_result"
    }
   ],
   "source": [
    "# Basic Description about every attributes in the data\n",
    "data.describe()"
   ]
  },
  {
   "cell_type": "code",
   "execution_count": 9,
   "metadata": {},
   "outputs": [
    {
     "name": "stdout",
     "output_type": "stream",
     "text": [
      "<class 'pandas.core.frame.DataFrame'>\n",
      "RangeIndex: 22805 entries, 0 to 22804\n",
      "Data columns (total 7 columns):\n",
      " #   Column  Non-Null Count  Dtype         \n",
      "---  ------  --------------  -----         \n",
      " 0   TYPE    22805 non-null  object        \n",
      " 1   DATE    22805 non-null  datetime64[ns]\n",
      " 2   TIME    22805 non-null  object        \n",
      " 3   OPEN    22805 non-null  float64       \n",
      " 4   HIGH    22805 non-null  float64       \n",
      " 5   LOW     22805 non-null  float64       \n",
      " 6   CLOSE   22805 non-null  float64       \n",
      "dtypes: datetime64[ns](1), float64(4), object(2)\n",
      "memory usage: 1.2+ MB\n"
     ]
    }
   ],
   "source": [
    "data.info()"
   ]
  },
  {
   "cell_type": "markdown",
   "metadata": {},
   "source": [
    "# DATASET 2 "
   ]
  },
  {
   "cell_type": "code",
   "execution_count": 20,
   "metadata": {},
   "outputs": [
    {
     "name": "stdout",
     "output_type": "stream",
     "text": [
      "(8857, 7)\n"
     ]
    },
    {
     "data": {
      "text/html": [
       "<div>\n",
       "<style scoped>\n",
       "    .dataframe tbody tr th:only-of-type {\n",
       "        vertical-align: middle;\n",
       "    }\n",
       "\n",
       "    .dataframe tbody tr th {\n",
       "        vertical-align: top;\n",
       "    }\n",
       "\n",
       "    .dataframe thead th {\n",
       "        text-align: right;\n",
       "    }\n",
       "</style>\n",
       "<table border=\"1\" class=\"dataframe\">\n",
       "  <thead>\n",
       "    <tr style=\"text-align: right;\">\n",
       "      <th></th>\n",
       "      <th>Date</th>\n",
       "      <th>Open</th>\n",
       "      <th>High</th>\n",
       "      <th>Low</th>\n",
       "      <th>Close</th>\n",
       "      <th>Adj Close</th>\n",
       "      <th>Volume</th>\n",
       "    </tr>\n",
       "  </thead>\n",
       "  <tbody>\n",
       "    <tr>\n",
       "      <th>0</th>\n",
       "      <td>1986-03-13</td>\n",
       "      <td>0.088542</td>\n",
       "      <td>0.101563</td>\n",
       "      <td>0.088542</td>\n",
       "      <td>0.097222</td>\n",
       "      <td>0.061751</td>\n",
       "      <td>1031788800</td>\n",
       "    </tr>\n",
       "    <tr>\n",
       "      <th>1</th>\n",
       "      <td>1986-03-14</td>\n",
       "      <td>0.097222</td>\n",
       "      <td>0.102431</td>\n",
       "      <td>0.097222</td>\n",
       "      <td>0.100694</td>\n",
       "      <td>0.063956</td>\n",
       "      <td>308160000</td>\n",
       "    </tr>\n",
       "    <tr>\n",
       "      <th>2</th>\n",
       "      <td>1986-03-17</td>\n",
       "      <td>0.100694</td>\n",
       "      <td>0.103299</td>\n",
       "      <td>0.100694</td>\n",
       "      <td>0.102431</td>\n",
       "      <td>0.065059</td>\n",
       "      <td>133171200</td>\n",
       "    </tr>\n",
       "    <tr>\n",
       "      <th>3</th>\n",
       "      <td>1986-03-18</td>\n",
       "      <td>0.102431</td>\n",
       "      <td>0.103299</td>\n",
       "      <td>0.098958</td>\n",
       "      <td>0.099826</td>\n",
       "      <td>0.063405</td>\n",
       "      <td>67766400</td>\n",
       "    </tr>\n",
       "    <tr>\n",
       "      <th>4</th>\n",
       "      <td>1986-03-19</td>\n",
       "      <td>0.099826</td>\n",
       "      <td>0.100694</td>\n",
       "      <td>0.097222</td>\n",
       "      <td>0.098090</td>\n",
       "      <td>0.062302</td>\n",
       "      <td>47894400</td>\n",
       "    </tr>\n",
       "  </tbody>\n",
       "</table>\n",
       "</div>"
      ],
      "text/plain": [
       "         Date      Open      High       Low     Close  Adj Close      Volume\n",
       "0  1986-03-13  0.088542  0.101563  0.088542  0.097222   0.061751  1031788800\n",
       "1  1986-03-14  0.097222  0.102431  0.097222  0.100694   0.063956   308160000\n",
       "2  1986-03-17  0.100694  0.103299  0.100694  0.102431   0.065059   133171200\n",
       "3  1986-03-18  0.102431  0.103299  0.098958  0.099826   0.063405    67766400\n",
       "4  1986-03-19  0.099826  0.100694  0.097222  0.098090   0.062302    47894400"
      ]
     },
     "execution_count": 20,
     "metadata": {},
     "output_type": "execute_result"
    }
   ],
   "source": [
    "#reading the dataset\n",
    "data_1 = pd.read_csv('MSFT.csv')\n",
    "print(data_1.shape) # printing the shape of the data (rows,columns)\n",
    "data_1.head() # print the first five rows of data"
   ]
  },
  {
   "cell_type": "code",
   "execution_count": 21,
   "metadata": {},
   "outputs": [],
   "source": [
    "import datetime\n",
    "data_1['Date'] = pd.to_datetime(data_1['Date'], format='%Y-%m-%d')"
   ]
  },
  {
   "cell_type": "code",
   "execution_count": 22,
   "metadata": {},
   "outputs": [
    {
     "data": {
      "text/html": [
       "<div>\n",
       "<style scoped>\n",
       "    .dataframe tbody tr th:only-of-type {\n",
       "        vertical-align: middle;\n",
       "    }\n",
       "\n",
       "    .dataframe tbody tr th {\n",
       "        vertical-align: top;\n",
       "    }\n",
       "\n",
       "    .dataframe thead th {\n",
       "        text-align: right;\n",
       "    }\n",
       "</style>\n",
       "<table border=\"1\" class=\"dataframe\">\n",
       "  <thead>\n",
       "    <tr style=\"text-align: right;\">\n",
       "      <th></th>\n",
       "      <th>DATE</th>\n",
       "      <th>OPEN</th>\n",
       "      <th>HIGH</th>\n",
       "      <th>LOW</th>\n",
       "      <th>CLOSE</th>\n",
       "      <th>ADJ CLOSE</th>\n",
       "      <th>VOLUME</th>\n",
       "    </tr>\n",
       "  </thead>\n",
       "  <tbody>\n",
       "    <tr>\n",
       "      <th>0</th>\n",
       "      <td>1986-03-13</td>\n",
       "      <td>0.088542</td>\n",
       "      <td>0.101563</td>\n",
       "      <td>0.088542</td>\n",
       "      <td>0.097222</td>\n",
       "      <td>0.061751</td>\n",
       "      <td>1031788800</td>\n",
       "    </tr>\n",
       "    <tr>\n",
       "      <th>1</th>\n",
       "      <td>1986-03-14</td>\n",
       "      <td>0.097222</td>\n",
       "      <td>0.102431</td>\n",
       "      <td>0.097222</td>\n",
       "      <td>0.100694</td>\n",
       "      <td>0.063956</td>\n",
       "      <td>308160000</td>\n",
       "    </tr>\n",
       "    <tr>\n",
       "      <th>2</th>\n",
       "      <td>1986-03-17</td>\n",
       "      <td>0.100694</td>\n",
       "      <td>0.103299</td>\n",
       "      <td>0.100694</td>\n",
       "      <td>0.102431</td>\n",
       "      <td>0.065059</td>\n",
       "      <td>133171200</td>\n",
       "    </tr>\n",
       "    <tr>\n",
       "      <th>3</th>\n",
       "      <td>1986-03-18</td>\n",
       "      <td>0.102431</td>\n",
       "      <td>0.103299</td>\n",
       "      <td>0.098958</td>\n",
       "      <td>0.099826</td>\n",
       "      <td>0.063405</td>\n",
       "      <td>67766400</td>\n",
       "    </tr>\n",
       "    <tr>\n",
       "      <th>4</th>\n",
       "      <td>1986-03-19</td>\n",
       "      <td>0.099826</td>\n",
       "      <td>0.100694</td>\n",
       "      <td>0.097222</td>\n",
       "      <td>0.098090</td>\n",
       "      <td>0.062302</td>\n",
       "      <td>47894400</td>\n",
       "    </tr>\n",
       "  </tbody>\n",
       "</table>\n",
       "</div>"
      ],
      "text/plain": [
       "        DATE      OPEN      HIGH       LOW     CLOSE  ADJ CLOSE      VOLUME\n",
       "0 1986-03-13  0.088542  0.101563  0.088542  0.097222   0.061751  1031788800\n",
       "1 1986-03-14  0.097222  0.102431  0.097222  0.100694   0.063956   308160000\n",
       "2 1986-03-17  0.100694  0.103299  0.100694  0.102431   0.065059   133171200\n",
       "3 1986-03-18  0.102431  0.103299  0.098958  0.099826   0.063405    67766400\n",
       "4 1986-03-19  0.099826  0.100694  0.097222  0.098090   0.062302    47894400"
      ]
     },
     "execution_count": 22,
     "metadata": {},
     "output_type": "execute_result"
    }
   ],
   "source": [
    "data_1.columns = data_1.columns.str.upper()\n",
    "data_1.head() ###print the updated cleaned dataset"
   ]
  },
  {
   "cell_type": "code",
   "execution_count": 15,
   "metadata": {},
   "outputs": [
    {
     "data": {
      "text/plain": [
       "<AxesSubplot:>"
      ]
     },
     "execution_count": 15,
     "metadata": {},
     "output_type": "execute_result"
    },
    {
     "data": {
      "image/png": "[encoded data removed]",
      "text/plain": [
       "<Figure size 1728x720 with 3 Axes>"
      ]
     },
     "metadata": {
      "needs_background": "light"
     },
     "output_type": "display_data"
    }
   ],
   "source": [
    "import missingno as msno\n",
    "msno.bar(data_1)"
   ]
  },
  {
   "cell_type": "code",
   "execution_count": 23,
   "metadata": {},
   "outputs": [
    {
     "data": {
      "text/html": [
       "<div>\n",
       "<style scoped>\n",
       "    .dataframe tbody tr th:only-of-type {\n",
       "        vertical-align: middle;\n",
       "    }\n",
       "\n",
       "    .dataframe tbody tr th {\n",
       "        vertical-align: top;\n",
       "    }\n",
       "\n",
       "    .dataframe thead th {\n",
       "        text-align: right;\n",
       "    }\n",
       "</style>\n",
       "<table border=\"1\" class=\"dataframe\">\n",
       "  <thead>\n",
       "    <tr style=\"text-align: right;\">\n",
       "      <th></th>\n",
       "      <th>DATE</th>\n",
       "      <th>OPEN</th>\n",
       "      <th>HIGH</th>\n",
       "      <th>LOW</th>\n",
       "      <th>CLOSE</th>\n",
       "      <th>ADJ CLOSE</th>\n",
       "      <th>VOLUME</th>\n",
       "    </tr>\n",
       "  </thead>\n",
       "  <tbody>\n",
       "  </tbody>\n",
       "</table>\n",
       "</div>"
      ],
      "text/plain": [
       "Empty DataFrame\n",
       "Columns: [DATE, OPEN, HIGH, LOW, CLOSE, ADJ CLOSE, VOLUME]\n",
       "Index: []"
      ]
     },
     "execution_count": 23,
     "metadata": {},
     "output_type": "execute_result"
    }
   ],
   "source": [
    "data_1[data_1.duplicated()]##check for duplicate entries"
   ]
  },
  {
   "cell_type": "code",
   "execution_count": 24,
   "metadata": {},
   "outputs": [
    {
     "data": {
      "text/html": [
       "<div>\n",
       "<style scoped>\n",
       "    .dataframe tbody tr th:only-of-type {\n",
       "        vertical-align: middle;\n",
       "    }\n",
       "\n",
       "    .dataframe tbody tr th {\n",
       "        vertical-align: top;\n",
       "    }\n",
       "\n",
       "    .dataframe thead th {\n",
       "        text-align: right;\n",
       "    }\n",
       "</style>\n",
       "<table border=\"1\" class=\"dataframe\">\n",
       "  <thead>\n",
       "    <tr style=\"text-align: right;\">\n",
       "      <th></th>\n",
       "      <th>OPEN</th>\n",
       "      <th>HIGH</th>\n",
       "      <th>LOW</th>\n",
       "      <th>CLOSE</th>\n",
       "      <th>ADJ CLOSE</th>\n",
       "      <th>VOLUME</th>\n",
       "    </tr>\n",
       "  </thead>\n",
       "  <tbody>\n",
       "    <tr>\n",
       "      <th>count</th>\n",
       "      <td>8857.000000</td>\n",
       "      <td>8857.000000</td>\n",
       "      <td>8857.000000</td>\n",
       "      <td>8857.000000</td>\n",
       "      <td>8857.000000</td>\n",
       "      <td>8.857000e+03</td>\n",
       "    </tr>\n",
       "    <tr>\n",
       "      <th>mean</th>\n",
       "      <td>34.831233</td>\n",
       "      <td>35.209355</td>\n",
       "      <td>34.449657</td>\n",
       "      <td>34.840895</td>\n",
       "      <td>29.886536</td>\n",
       "      <td>5.953411e+07</td>\n",
       "    </tr>\n",
       "    <tr>\n",
       "      <th>std</th>\n",
       "      <td>44.060163</td>\n",
       "      <td>44.513443</td>\n",
       "      <td>43.597704</td>\n",
       "      <td>44.080986</td>\n",
       "      <td>44.195101</td>\n",
       "      <td>3.858121e+07</td>\n",
       "    </tr>\n",
       "    <tr>\n",
       "      <th>min</th>\n",
       "      <td>0.088542</td>\n",
       "      <td>0.092014</td>\n",
       "      <td>0.088542</td>\n",
       "      <td>0.090278</td>\n",
       "      <td>0.057340</td>\n",
       "      <td>2.304000e+06</td>\n",
       "    </tr>\n",
       "    <tr>\n",
       "      <th>25%</th>\n",
       "      <td>3.843750</td>\n",
       "      <td>3.875000</td>\n",
       "      <td>3.812500</td>\n",
       "      <td>3.851563</td>\n",
       "      <td>2.446323</td>\n",
       "      <td>3.559720e+07</td>\n",
       "    </tr>\n",
       "    <tr>\n",
       "      <th>50%</th>\n",
       "      <td>26.590000</td>\n",
       "      <td>26.879999</td>\n",
       "      <td>26.290001</td>\n",
       "      <td>26.590000</td>\n",
       "      <td>18.686628</td>\n",
       "      <td>5.269680e+07</td>\n",
       "    </tr>\n",
       "    <tr>\n",
       "      <th>75%</th>\n",
       "      <td>36.730000</td>\n",
       "      <td>37.000000</td>\n",
       "      <td>36.110001</td>\n",
       "      <td>36.660000</td>\n",
       "      <td>27.218300</td>\n",
       "      <td>7.339520e+07</td>\n",
       "    </tr>\n",
       "    <tr>\n",
       "      <th>max</th>\n",
       "      <td>261.660004</td>\n",
       "      <td>263.190002</td>\n",
       "      <td>260.170013</td>\n",
       "      <td>261.970001</td>\n",
       "      <td>261.970001</td>\n",
       "      <td>1.031789e+09</td>\n",
       "    </tr>\n",
       "  </tbody>\n",
       "</table>\n",
       "</div>"
      ],
      "text/plain": [
       "              OPEN         HIGH          LOW        CLOSE    ADJ CLOSE  \\\n",
       "count  8857.000000  8857.000000  8857.000000  8857.000000  8857.000000   \n",
       "mean     34.831233    35.209355    34.449657    34.840895    29.886536   \n",
       "std      44.060163    44.513443    43.597704    44.080986    44.195101   \n",
       "min       0.088542     0.092014     0.088542     0.090278     0.057340   \n",
       "25%       3.843750     3.875000     3.812500     3.851563     2.446323   \n",
       "50%      26.590000    26.879999    26.290001    26.590000    18.686628   \n",
       "75%      36.730000    37.000000    36.110001    36.660000    27.218300   \n",
       "max     261.660004   263.190002   260.170013   261.970001   261.970001   \n",
       "\n",
       "             VOLUME  \n",
       "count  8.857000e+03  \n",
       "mean   5.953411e+07  \n",
       "std    3.858121e+07  \n",
       "min    2.304000e+06  \n",
       "25%    3.559720e+07  \n",
       "50%    5.269680e+07  \n",
       "75%    7.339520e+07  \n",
       "max    1.031789e+09  "
      ]
     },
     "execution_count": 24,
     "metadata": {},
     "output_type": "execute_result"
    }
   ],
   "source": [
    "# Basic Description about every attributes in the data\n",
    "data_1.describe()"
   ]
  },
  {
   "cell_type": "code",
   "execution_count": 25,
   "metadata": {},
   "outputs": [
    {
     "name": "stdout",
     "output_type": "stream",
     "text": [
      "<class 'pandas.core.frame.DataFrame'>\n",
      "RangeIndex: 8857 entries, 0 to 8856\n",
      "Data columns (total 7 columns):\n",
      " #   Column     Non-Null Count  Dtype         \n",
      "---  ------     --------------  -----         \n",
      " 0   DATE       8857 non-null   datetime64[ns]\n",
      " 1   OPEN       8857 non-null   float64       \n",
      " 2   HIGH       8857 non-null   float64       \n",
      " 3   LOW        8857 non-null   float64       \n",
      " 4   CLOSE      8857 non-null   float64       \n",
      " 5   ADJ CLOSE  8857 non-null   float64       \n",
      " 6   VOLUME     8857 non-null   int64         \n",
      "dtypes: datetime64[ns](1), float64(5), int64(1)\n",
      "memory usage: 484.5 KB\n"
     ]
    }
   ],
   "source": [
    "data_1.info()"
   ]
  },
  {
   "cell_type": "code",
   "execution_count": null,
   "metadata": {},
   "outputs": [],
   "source": []
  }
 ],
 "metadata": {
  "kernelspec": {
   "display_name": "Python 3",
   "language": "python",
   "name": "python3"
  },
  "language_info": {
   "codemirror_mode": {
    "name": "ipython",
    "version": 3
   },
   "file_extension": ".py",
   "mimetype": "text/x-python",
   "name": "python",
   "nbconvert_exporter": "python",
   "pygments_lexer": "ipython3",
   "version": "3.8.5"
  }
 },
 "nbformat": 4,
 "nbformat_minor": 4
}
